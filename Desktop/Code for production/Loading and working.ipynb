{
 "cells": [
  {
   "cell_type": "code",
   "execution_count": 2,
   "metadata": {},
   "outputs": [],
   "source": [
    "# Import necessary modules from Flask\n",
    "from flask import Flask, request\n",
    "import os\n",
    "\n",
    "# Import required components from LlamaIndex\n",
    "from llama_index.core import (\n",
    "    SimpleDirectoryReader,\n",
    "    VectorStoreIndex,\n",
    "    PromptTemplate,\n",
    ")\n",
    "from llama_index.readers.file import CSVReader # For reading CSV files\n",
    "from llama_index.embeddings.openai import OpenAIEmbedding\n",
    "from llama_index.core.node_parser import (\n",
    "    SentenceSplitter,\n",
    "    SemanticSplitterNodeParser, # For semantic splitting of nodes\n",
    ")\n",
    "from llama_index.llms.openai import OpenAI\n",
    "from llama_index.core import VectorStoreIndex, get_response_synthesizer\n",
    "from llama_index.core.retrievers import VectorIndexRetriever\n",
    "from llama_index.core.query_engine import RetrieverQueryEngine\n",
    "from llama_index.core.postprocessor import SimilarityPostprocessor\n",
    "from llama_index.core import (\n",
    "    load_index_from_storage,\n",
    "    StorageContext,\n",
    ")\n",
    "from llama_index.core.evaluation import DatasetGenerator, RelevancyEvaluator\n",
    "from dotenv import load_dotenv\n",
    "\n",
    "\n",
    "load_dotenv(dotenv_path=\"./variable.env\")\n",
    "\n",
    "# Retrieve the OpenAI API key and paths from environment variables\n",
    "api_key = os.getenv(\"OPENAI_API_KEY\")\n",
    "# Initialize OpenAI language model\n",
    "llm = OpenAI(model=\"gpt-3.5-turbo\")\n",
    "\n",
    "\n",
    "\n",
    "# Define the prompt template for query answering\n",
    "text_qa_template_str = (\n",
    "    \"Context information is\"\n",
    "    \" below.\\n---------------------\\n{context_str}\\n---------------------\\nUsing\"\n",
    "    \"You are an assistant for question-answering based on a certain context.\\n\"\n",
    "    \"- Use the following context to answer the question.\\n\"\n",
    "    \"- Don't tell any information that is not mentionned in the context.\\n\"\n",
    "    \"- Don't mention the use of the context in your answers.\\n\"\n",
    "    \"- Never refer to the context in your answer.\\n\"\n",
    "    \"- Use Three sentences maximum and keep the answer concise.\\n\"\n",
    "    \"- Use the context provided as a basis for a complete answer.\\n\" \n",
    "    \"- Always respond in the same language as the question.\\n \"\n",
    "    \"- If someone asks for a location, always include the Google Maps link to the location in the answer.\\n\"\n",
    "    \"- If it is not possible to provide an answer based on the context, don't invent an answer and just say in the language of the question: 'Sorry, I couldn't answer your question based on my knowledge. Can you please rephrase it or ask another question?'\"\n",
    "    \"- Do not hallucinate or invent information not present in the context.\\n\"\n",
    "    \"- If the context contains links to other websites, please include the links as well.\\n\"   \n",
    "    \"- Using the context , answer\"\n",
    "    \" the question: {query_str}\\n\"\n",
    "    \"- Do not mention or refer to the context, 'context information', 'provided information', or any similar terms in your answers.\\n\"\n",
    "    \"- Always give a detailed answer that encompasses all the information.\\n\"\n",
    "    \"- If it is not possible to provide an answer based on the context, don't invent an answer and just say in the language of the question: 'Sorry, I couldn't answer your question based on my knowledge. Can you please rephrase it or ask another question?'\\n\"\n",
    ")\n",
    "text_qa_template = PromptTemplate(text_qa_template_str)\n",
    "\n",
    "\n",
    "\n",
    "        \n",
    "storage_context = StorageContext.from_defaults(persist_dir=f\"C:\\\\Users\\\\Lenovo\\\\Desktop\\\\Code for production\\\\Stockage\\\\8c9796ee-28f4-4994-bc2c-ead53c32ae89\")\n",
    "index = load_index_from_storage(storage_context=storage_context)\n",
    "\n",
    "\n",
    "    # Create retriever for the vector index\n",
    "\n",
    "retriever = VectorIndexRetriever(\n",
    "        index=index,\n",
    "        similarity_top_k=5,\n",
    "        llm=llm\n",
    "    )\n",
    "\n",
    "\n",
    "    # configure response synthesizer\n",
    "response_synthesizer = get_response_synthesizer(text_qa_template=text_qa_template)\n",
    "\n",
    "   \n",
    "        # Create query engine with index and template\n",
    "query_engine = RetrieverQueryEngine(\n",
    "      retriever=retriever,\n",
    "      response_synthesizer=response_synthesizer,\n",
    "    )"
   ]
  },
  {
   "cell_type": "code",
   "execution_count": 3,
   "metadata": {},
   "outputs": [
    {
     "name": "stdout",
     "output_type": "stream",
     "text": [
      "The hotel is located on Mohamed 6 avenue in the Hivernage area. For the exact location on Google Maps, you can visit: https://maps.app.goo.gl/CKjSrpgXRTK5Ynkc8. It is situated in a luxury quarter, just a 10-minute drive from the city center.\n"
     ]
    }
   ],
   "source": [
    "response = query_engine.query(\"Where is the hotel located?\")\n",
    "print(response)"
   ]
  }
 ],
 "metadata": {
  "kernelspec": {
   "display_name": "base",
   "language": "python",
   "name": "python3"
  },
  "language_info": {
   "codemirror_mode": {
    "name": "ipython",
    "version": 3
   },
   "file_extension": ".py",
   "mimetype": "text/x-python",
   "name": "python",
   "nbconvert_exporter": "python",
   "pygments_lexer": "ipython3",
   "version": "3.11.7"
  }
 },
 "nbformat": 4,
 "nbformat_minor": 2
}
