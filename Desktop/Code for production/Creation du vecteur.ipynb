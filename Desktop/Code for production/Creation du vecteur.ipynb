{
 "cells": [
  {
   "cell_type": "code",
   "execution_count": null,
   "metadata": {},
   "outputs": [],
   "source": [
    "%pip install Flask\n",
    "%pip install llama-index\n",
    "%pip install openai\n",
    "%pip install python-dotenv"
   ]
  },
  {
   "cell_type": "code",
   "execution_count": 9,
   "metadata": {},
   "outputs": [],
   "source": [
    "import os\n",
    "from llama_index.core import (\n",
    "    SimpleDirectoryReader,\n",
    "    VectorStoreIndex,\n",
    "    PromptTemplate,\n",
    ")\n",
    "from llama_index.readers.file import CSVReader\n",
    "from llama_index.embeddings.openai import OpenAIEmbedding\n",
    "from llama_index.core.node_parser import (\n",
    "    SentenceSplitter,\n",
    "    SemanticSplitterNodeParser,\n",
    ")\n",
    "from llama_index.llms.openai import OpenAI\n",
    "from llama_index.core import VectorStoreIndex, get_response_synthesizer\n",
    "from llama_index.core.retrievers import VectorIndexRetriever\n",
    "from llama_index.core.query_engine import RetrieverQueryEngine\n",
    "from llama_index.core.postprocessor import SimilarityPostprocessor\n",
    "from llama_index.core.node_parser import SimpleNodeParser\n",
    "from dotenv import load_dotenv\n",
    "\n",
    "# Load environment variables from .env file\n",
    "load_dotenv(dotenv_path=\"./variable.env\")\n",
    "\n",
    "\n",
    "# Retrieve the OpenAI API key and paths from environment variables\n",
    "api_key = os.getenv(\"OPENAI_API_KEY\")\n",
    "persist_dir = os.getenv(\"Storage\")\n",
    "documents_path = os.getenv(\"DATA_path\")\n",
    "\n",
    "os.environ[\"OPENAI_API_KEY\"] = api_key\n",
    "\n",
    "# Initialize the CSV reader\n",
    "csv_reader = CSVReader()\n",
    "file_extractor = {\".csv\": csv_reader}\n",
    "\n",
    "# Initialize embedding model\n",
    "embed_model = OpenAIEmbedding()\n",
    "\n",
    "# Iterate through each subdirectory in the DATA directory\n",
    "for subdir in os.listdir(documents_path):\n",
    "    subdir_path = os.path.join(documents_path, subdir)\n",
    "    if os.path.isdir(subdir_path):\n",
    "        # Load documents from the subdirectory\n",
    "        documents = SimpleDirectoryReader(\n",
    "            subdir_path, file_extractor=file_extractor, recursive=True\n",
    "        ).load_data()\n",
    "\n",
    "        splitter = SemanticSplitterNodeParser(buffer_size=1, breakpoint_percentile_threshold=95, embed_model=embed_model)\n",
    "\n",
    "        # also baseline splitter\n",
    "        base_splitter = SentenceSplitter(chunk_size=512)\n",
    "        nodes = splitter.get_nodes_from_documents(documents)\n",
    "    \n",
    "        index = VectorStoreIndex(nodes)\n",
    "\n",
    "\n",
    "        # Create a storage path for the current subdirectory\n",
    "        subdir_storage_path = os.path.join(persist_dir, subdir)\n",
    "        os.makedirs(subdir_storage_path, exist_ok=True)\n",
    "\n",
    "        # Persist the vector index to the subdirectory's storage path\n",
    "        index.storage_context.persist(persist_dir=subdir_storage_path)\n"
   ]
  }
 ],
 "metadata": {
  "kernelspec": {
   "display_name": "base",
   "language": "python",
   "name": "python3"
  },
  "language_info": {
   "codemirror_mode": {
    "name": "ipython",
    "version": 3
   },
   "file_extension": ".py",
   "mimetype": "text/x-python",
   "name": "python",
   "nbconvert_exporter": "python",
   "pygments_lexer": "ipython3",
   "version": "3.11.7"
  }
 },
 "nbformat": 4,
 "nbformat_minor": 2
}
